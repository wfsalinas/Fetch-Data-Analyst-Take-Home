{
 "cells": [
  {
   "attachments": {},
   "cell_type": "markdown",
   "id": "8d25b5a0-af78-4028-aabb-79a4a580ec02",
   "metadata": {},
   "source": [
    "\n",
    "<h1><center> FETCH DATA ANALYST TAKE HOME PROJECT</center></h1>\n",
    "\n",
    "The following analysis is for Fetch Take Home project. The assignment has three parts with two questions in the first part, three questions in the second part, and a written communication in the third part. The files used in this assignment are Violets are blue. <span style='color:green'>USER_TAKEHOME.csv</span>, <span style='color:green'>PRODUCTS_TAKEHOME.csv</span>, and <span style='color:green'>TRANSACTION_TAKEHOME.csv</span>. The Transaction dataset contains data from June 2024 to September 2024.\n",
    "\n",
    "Tools used for this project include Excel/ Google Sheets, Python, and SQL.\n",
    "\n",
    "### <center> Summary of findings (python)\n",
    "\n",
    "**Question 1:** *Are there any data quality issues present?*\n",
    "\n",
    "Yes, all three tables contain data quality issues, although one table has more issues than the other two. The data quality issues found include: inconsistency in categories within variables, mispelling, different types of data within a variable, duplicate rows, missing data, and incorret data types. A summary of performed checks and findings is listed below:\n",
    "\n",
    "**USER table**:\n",
    "    \n",
    "* inconsistency in categories: *Non-Binary* vs *non_binary*, *My gender isn't listed* vs *not_listed*, and *Prefer not to say* vs *prefer_not_to_say*\n",
    "* 5 variables have missing data e.g., contain NaNs/Null values.\n",
    "* no duplicates rows.\n",
    "* Checked that all state acronyms corresponded to an actual state. Note that *PR* and *DC* are listed in the states column.\n",
    "\n",
    "**PRODUCTS table**:\n",
    "* 4 variables have missing data e.g., contain NaNs/Null values.\n",
    "* typos: Accesories, \"Alchoholic\" \n",
    "* A total of 57 duplicate rows were found.\n",
    "\n",
    "**TRANSACTION table**:\n",
    "* 2 variables have missing data e.g., contain NaNs/Null values.\n",
    "* found capitalization inconsistency e.g., \"TINKER COMMISsARY\"\n",
    "* ``FINAL_QUANTITY`` variable data issues:\n",
    "    * contains the string *zero* instead of 0.\n",
    "    * has non-integer values for quantities (e.g., 1.23), which does not make sense.\n",
    "* A total of 171 duplicate rows were found.\n",
    "\n",
    "**Question 2:** *Are there any fields that are challenging to understand?*\n",
    "\n",
    "The <span style='color:green'>TRANSACTION</span> table contains non-integer values in a ``FINAL_QUANTITY`` variable. Moreover, there are two rows per transaction with each ``FINAL_QUANTITY`` and ``FINAL_PRICE`` variable combination, made this table tricky to understand. We will partially clean this table in python and move the rest of the analysis and cleaning to SQL.\n",
    "\n",
    "In the next steps we will explore and clean the data in order to determine the impact it may have in the questions we are trying to answer. In **Data Cleaning Part 1** we remove category Inconsistencies, re-format date variables, remove duplicate rows, and create new variables needed for part 2 of the assignment. In **Data Cleaning Part 2** we explore missing (null) values and check for other data Inconsistencies. We will also make note of any interesting observations we find along the way.\n",
    "\n",
    "## Section 1: Data Cleaning Part 1"
   ]
  },
  {
   "cell_type": "code",
   "execution_count": 1,
   "id": "41606228-474a-4794-a277-830cf4c0065a",
   "metadata": {},
   "outputs": [],
   "source": [
    "import numpy as np\n",
    "import pandas as pd\n",
    "import seaborn as sns\n",
    "import matplotlib.pyplot as plt\n",
    "import statsmodels.api as sm # for qqplot\n",
    "from datetime import datetime # to calculate age in years."
   ]
  },
  {
   "cell_type": "markdown",
   "id": "e322a691-8e30-4b12-914a-907824574a4b",
   "metadata": {},
   "source": [
    "### Section 1.1: User-defined functions.\n",
    "Due to the repetitive nature of data exploration for each dataset, we create the following functions that will both minimize code and improve redability for analysis."
   ]
  },
  {
   "cell_type": "code",
   "execution_count": 2,
   "id": "9fb6ffef-a253-4b59-ac63-53740f32133f",
   "metadata": {},
   "outputs": [],
   "source": [
    "##################################################################################\n",
    "# Returns a dictionary to easily change dataframe column names to lowercase.\n",
    "##################################################################################\n",
    "def col_names_to_lower(dataframe):\n",
    "    col_names = list(dataframe.columns)\n",
    "    return dict(list(zip(col_names, list(map(lambda name: name.lower(), col_names)))))\n",
    "\n",
    "##################################################################################\n",
    "# Checks whether a dataframe has duplicate rows. Returns the deduped dataframe.\n",
    "##################################################################################\n",
    "def check_for_duplicates(dataframe):\n",
    "    if True in set(dataframe.duplicated()):\n",
    "        n_before_dedup = dataframe.shape[0]\n",
    "        dataframe.drop_duplicates(inplace = True)\n",
    "        n_after_dedup  = dataframe.shape[0]\n",
    "        print(f'A total of {n_before_dedup - n_after_dedup} duplicate rows have been dropped.')\n",
    "    else:\n",
    "        print('This table has 0 duplicate rows')\n",
    "    return dataframe"
   ]
  },
  {
   "cell_type": "markdown",
   "id": "e3dd85f6-958e-4aa6-9078-e531da6750b5",
   "metadata": {},
   "source": [
    "### Section 1.2: Cleaning the USER_TAKEHOME dataset"
   ]
  },
  {
   "cell_type": "code",
   "execution_count": 3,
   "id": "c9c259b8-d6cb-404e-9d56-b7939d1da7bb",
   "metadata": {},
   "outputs": [
    {
     "data": {
      "text/html": [
       "<div>\n",
       "<style scoped>\n",
       "    .dataframe tbody tr th:only-of-type {\n",
       "        vertical-align: middle;\n",
       "    }\n",
       "\n",
       "    .dataframe tbody tr th {\n",
       "        vertical-align: top;\n",
       "    }\n",
       "\n",
       "    .dataframe thead th {\n",
       "        text-align: right;\n",
       "    }\n",
       "</style>\n",
       "<table border=\"1\" class=\"dataframe\">\n",
       "  <thead>\n",
       "    <tr style=\"text-align: right;\">\n",
       "      <th></th>\n",
       "      <th>ID</th>\n",
       "      <th>CREATED_DATE</th>\n",
       "      <th>BIRTH_DATE</th>\n",
       "      <th>STATE</th>\n",
       "      <th>LANGUAGE</th>\n",
       "      <th>GENDER</th>\n",
       "    </tr>\n",
       "  </thead>\n",
       "  <tbody>\n",
       "    <tr>\n",
       "      <th>0</th>\n",
       "      <td>5ef3b4f17053ab141787697d</td>\n",
       "      <td>2020-06-24 20:17:54.000 Z</td>\n",
       "      <td>2000-08-11 00:00:00.000 Z</td>\n",
       "      <td>CA</td>\n",
       "      <td>es-419</td>\n",
       "      <td>female</td>\n",
       "    </tr>\n",
       "    <tr>\n",
       "      <th>1</th>\n",
       "      <td>5ff220d383fcfc12622b96bc</td>\n",
       "      <td>2021-01-03 19:53:55.000 Z</td>\n",
       "      <td>2001-09-24 04:00:00.000 Z</td>\n",
       "      <td>PA</td>\n",
       "      <td>en</td>\n",
       "      <td>female</td>\n",
       "    </tr>\n",
       "    <tr>\n",
       "      <th>2</th>\n",
       "      <td>6477950aa55bb77a0e27ee10</td>\n",
       "      <td>2023-05-31 18:42:18.000 Z</td>\n",
       "      <td>1994-10-28 00:00:00.000 Z</td>\n",
       "      <td>FL</td>\n",
       "      <td>es-419</td>\n",
       "      <td>female</td>\n",
       "    </tr>\n",
       "  </tbody>\n",
       "</table>\n",
       "</div>"
      ],
      "text/plain": [
       "                         ID               CREATED_DATE  \\\n",
       "0  5ef3b4f17053ab141787697d  2020-06-24 20:17:54.000 Z   \n",
       "1  5ff220d383fcfc12622b96bc  2021-01-03 19:53:55.000 Z   \n",
       "2  6477950aa55bb77a0e27ee10  2023-05-31 18:42:18.000 Z   \n",
       "\n",
       "                  BIRTH_DATE STATE LANGUAGE  GENDER  \n",
       "0  2000-08-11 00:00:00.000 Z    CA   es-419  female  \n",
       "1  2001-09-24 04:00:00.000 Z    PA       en  female  \n",
       "2  1994-10-28 00:00:00.000 Z    FL   es-419  female  "
      ]
     },
     "execution_count": 3,
     "metadata": {},
     "output_type": "execute_result"
    }
   ],
   "source": [
    "df_user = pd.read_csv('USER_TAKEHOME.csv')\n",
    "df_user.head(3)"
   ]
  },
  {
   "cell_type": "code",
   "execution_count": 4,
   "id": "e8b3b4f1-3085-4ec9-adab-dcf15058f30e",
   "metadata": {},
   "outputs": [
    {
     "data": {
      "text/plain": [
       "GENDER\n",
       "female                    64240\n",
       "male                      25829\n",
       "transgender                1772\n",
       "prefer_not_to_say          1350\n",
       "non_binary                  473\n",
       "unknown                     196\n",
       "not_listed                  180\n",
       "Non-Binary                   34\n",
       "not_specified                28\n",
       "My gender isn't listed        5\n",
       "Prefer not to say             1\n",
       "Name: count, dtype: int64"
      ]
     },
     "execution_count": 4,
     "metadata": {},
     "output_type": "execute_result"
    }
   ],
   "source": [
    "df_user['GENDER'].value_counts() # check for category consistency in the gender variable."
   ]
  },
  {
   "cell_type": "markdown",
   "id": "a837241f-5382-45e8-8ac1-2f98338f4e22",
   "metadata": {},
   "source": [
    "After close inspection, we see that there are inconsistent values in the column ``GENDER``. For example, the following values need to be standardized for consistency:\n",
    "* *Non-Binary* to *non_binary*\n",
    "* *My gender isn't listed* to *not_listed*\n",
    "* *Prefer not to say* to *prefer_not_to_say*"
   ]
  },
  {
   "cell_type": "code",
   "execution_count": 5,
   "id": "3602bdb1-b13e-4e3a-8b72-eeafcfa5bf20",
   "metadata": {},
   "outputs": [
    {
     "data": {
      "text/plain": [
       "GENDER\n",
       "female               64240\n",
       "male                 25829\n",
       "transgender           1772\n",
       "prefer_not_to_say     1351\n",
       "non_binary             507\n",
       "unknown                196\n",
       "not_listed             185\n",
       "not_specified           28\n",
       "Name: count, dtype: int64"
      ]
     },
     "execution_count": 5,
     "metadata": {},
     "output_type": "execute_result"
    }
   ],
   "source": [
    "# clean the category incosistency within the GENDER variable.\n",
    "df_user['GENDER'] = df_user['GENDER'].replace('Non-Binary', 'non_binary').replace(\"My gender isn't listed\", 'not_listed').replace('Prefer not to say', 'prefer_not_to_say')\n",
    "\n",
    "# check that the changes went through\n",
    "df_user['GENDER'].value_counts()"
   ]
  },
  {
   "cell_type": "markdown",
   "id": "629daa0e-66d3-4e6f-b7a6-7b5b6f4e54be",
   "metadata": {},
   "source": [
    "Next, we check for duplicates. Afterwards, we re-format the ``CREATED_DATE`` and ``BIRTH_DATE`` variables for easy date-consumption, then create a ``user_age``, ``account_age_months``, and ``generation`` variable. These last 3 variables are needed for the second part of the assignment."
   ]
  },
  {
   "cell_type": "code",
   "execution_count": 6,
   "id": "9277390b-41dd-40dd-87e8-5759b38eccc9",
   "metadata": {},
   "outputs": [
    {
     "name": "stdout",
     "output_type": "stream",
     "text": [
      "This table has 0 duplicate rows\n"
     ]
    }
   ],
   "source": [
    "df_user = check_for_duplicates(df_user) # check for duplicate rows and deduplicate if necessary."
   ]
  },
  {
   "cell_type": "code",
   "execution_count": 7,
   "id": "701ca3c7-ac75-40cf-b7b8-2cbf461fbe29",
   "metadata": {},
   "outputs": [
    {
     "data": {
      "text/html": [
       "<div>\n",
       "<style scoped>\n",
       "    .dataframe tbody tr th:only-of-type {\n",
       "        vertical-align: middle;\n",
       "    }\n",
       "\n",
       "    .dataframe tbody tr th {\n",
       "        vertical-align: top;\n",
       "    }\n",
       "\n",
       "    .dataframe thead th {\n",
       "        text-align: right;\n",
       "    }\n",
       "</style>\n",
       "<table border=\"1\" class=\"dataframe\">\n",
       "  <thead>\n",
       "    <tr style=\"text-align: right;\">\n",
       "      <th></th>\n",
       "      <th>ID</th>\n",
       "      <th>CREATED_DATE</th>\n",
       "      <th>BIRTH_DATE</th>\n",
       "      <th>STATE</th>\n",
       "      <th>LANGUAGE</th>\n",
       "      <th>GENDER</th>\n",
       "      <th>birth_date</th>\n",
       "      <th>created_date</th>\n",
       "    </tr>\n",
       "  </thead>\n",
       "  <tbody>\n",
       "    <tr>\n",
       "      <th>0</th>\n",
       "      <td>5ef3b4f17053ab141787697d</td>\n",
       "      <td>2020-06-24 20:17:54.000 Z</td>\n",
       "      <td>2000-08-11 00:00:00.000 Z</td>\n",
       "      <td>CA</td>\n",
       "      <td>es-419</td>\n",
       "      <td>female</td>\n",
       "      <td>2000-08-11</td>\n",
       "      <td>2020-06-24</td>\n",
       "    </tr>\n",
       "    <tr>\n",
       "      <th>1</th>\n",
       "      <td>5ff220d383fcfc12622b96bc</td>\n",
       "      <td>2021-01-03 19:53:55.000 Z</td>\n",
       "      <td>2001-09-24 04:00:00.000 Z</td>\n",
       "      <td>PA</td>\n",
       "      <td>en</td>\n",
       "      <td>female</td>\n",
       "      <td>2001-09-24</td>\n",
       "      <td>2021-01-03</td>\n",
       "    </tr>\n",
       "    <tr>\n",
       "      <th>2</th>\n",
       "      <td>6477950aa55bb77a0e27ee10</td>\n",
       "      <td>2023-05-31 18:42:18.000 Z</td>\n",
       "      <td>1994-10-28 00:00:00.000 Z</td>\n",
       "      <td>FL</td>\n",
       "      <td>es-419</td>\n",
       "      <td>female</td>\n",
       "      <td>1994-10-28</td>\n",
       "      <td>2023-05-31</td>\n",
       "    </tr>\n",
       "  </tbody>\n",
       "</table>\n",
       "</div>"
      ],
      "text/plain": [
       "                         ID               CREATED_DATE  \\\n",
       "0  5ef3b4f17053ab141787697d  2020-06-24 20:17:54.000 Z   \n",
       "1  5ff220d383fcfc12622b96bc  2021-01-03 19:53:55.000 Z   \n",
       "2  6477950aa55bb77a0e27ee10  2023-05-31 18:42:18.000 Z   \n",
       "\n",
       "                  BIRTH_DATE STATE LANGUAGE  GENDER  birth_date created_date  \n",
       "0  2000-08-11 00:00:00.000 Z    CA   es-419  female  2000-08-11   2020-06-24  \n",
       "1  2001-09-24 04:00:00.000 Z    PA       en  female  2001-09-24   2021-01-03  \n",
       "2  1994-10-28 00:00:00.000 Z    FL   es-419  female  1994-10-28   2023-05-31  "
      ]
     },
     "execution_count": 7,
     "metadata": {},
     "output_type": "execute_result"
    }
   ],
   "source": [
    "df_user['birth_date']   = pd.to_datetime(df_user['BIRTH_DATE']  ).dt.strftime('%Y-%m-%d')\n",
    "df_user['created_date'] = pd.to_datetime(df_user['CREATED_DATE']).dt.strftime('%Y-%m-%d')\n",
    "df_user.head(3)"
   ]
  },
  {
   "cell_type": "code",
   "execution_count": 8,
   "id": "5756f5db-8556-4de6-92b9-64527b4905ec",
   "metadata": {},
   "outputs": [
    {
     "data": {
      "text/html": [
       "<div>\n",
       "<style scoped>\n",
       "    .dataframe tbody tr th:only-of-type {\n",
       "        vertical-align: middle;\n",
       "    }\n",
       "\n",
       "    .dataframe tbody tr th {\n",
       "        vertical-align: top;\n",
       "    }\n",
       "\n",
       "    .dataframe thead th {\n",
       "        text-align: right;\n",
       "    }\n",
       "</style>\n",
       "<table border=\"1\" class=\"dataframe\">\n",
       "  <thead>\n",
       "    <tr style=\"text-align: right;\">\n",
       "      <th></th>\n",
       "      <th>id</th>\n",
       "      <th>state</th>\n",
       "      <th>language</th>\n",
       "      <th>gender</th>\n",
       "      <th>birth_date</th>\n",
       "      <th>created_date</th>\n",
       "    </tr>\n",
       "  </thead>\n",
       "  <tbody>\n",
       "    <tr>\n",
       "      <th>0</th>\n",
       "      <td>5ef3b4f17053ab141787697d</td>\n",
       "      <td>CA</td>\n",
       "      <td>es-419</td>\n",
       "      <td>female</td>\n",
       "      <td>2000-08-11</td>\n",
       "      <td>2020-06-24</td>\n",
       "    </tr>\n",
       "    <tr>\n",
       "      <th>1</th>\n",
       "      <td>5ff220d383fcfc12622b96bc</td>\n",
       "      <td>PA</td>\n",
       "      <td>en</td>\n",
       "      <td>female</td>\n",
       "      <td>2001-09-24</td>\n",
       "      <td>2021-01-03</td>\n",
       "    </tr>\n",
       "    <tr>\n",
       "      <th>2</th>\n",
       "      <td>6477950aa55bb77a0e27ee10</td>\n",
       "      <td>FL</td>\n",
       "      <td>es-419</td>\n",
       "      <td>female</td>\n",
       "      <td>1994-10-28</td>\n",
       "      <td>2023-05-31</td>\n",
       "    </tr>\n",
       "  </tbody>\n",
       "</table>\n",
       "</div>"
      ],
      "text/plain": [
       "                         id state language  gender  birth_date created_date\n",
       "0  5ef3b4f17053ab141787697d    CA   es-419  female  2000-08-11   2020-06-24\n",
       "1  5ff220d383fcfc12622b96bc    PA       en  female  2001-09-24   2021-01-03\n",
       "2  6477950aa55bb77a0e27ee10    FL   es-419  female  1994-10-28   2023-05-31"
      ]
     },
     "execution_count": 8,
     "metadata": {},
     "output_type": "execute_result"
    }
   ],
   "source": [
    "df_user.drop(['CREATED_DATE','BIRTH_DATE'], axis = 1, inplace = True) # drop columns from the dataframe\n",
    "df_user.rename(columns = col_names_to_lower(df_user), inplace = True) # rename columns to lowercase.\n",
    "df_user.head(3)"
   ]
  },
  {
   "cell_type": "code",
   "execution_count": 9,
   "id": "93cd938c-8ddb-403e-9252-688634ebd30f",
   "metadata": {},
   "outputs": [],
   "source": [
    "# obtain the age of each user.\n",
    "todays_date = pd.to_datetime(datetime.today().strftime('%Y-%m-%d')) # get today's date in the format YYYY-MM-DD\n",
    "df_user['birth_date']   = pd.to_datetime(df_user['birth_date'])\n",
    "df_user['created_date'] = pd.to_datetime(df_user['created_date'])\n",
    "df_user['user_age'] = df_user['birth_date'].apply(lambda x: todays_date.year - x.year - ((todays_date.month, todays_date.day) < (x.month, x.day)) )\n",
    "\n",
    "# obtain the age of each account (in months).\n",
    "df_user['accnt_age_months'] = (todays_date.to_period('M') - df_user['created_date'].dt.to_period('M')).apply(lambda x: x.n)"
   ]
  },
  {
   "cell_type": "markdown",
   "id": "cc2c062e-aaa4-457f-a34a-8c26b1662c3f",
   "metadata": {},
   "source": [
    "Finally, we create the variable to categorize each user."
   ]
  },
  {
   "cell_type": "code",
   "execution_count": 10,
   "id": "e95a4d97-64e5-4bb6-b456-f4131ab854aa",
   "metadata": {},
   "outputs": [],
   "source": [
    "# used \"https://en.wikipedia.org/wiki/Generation\" to define generations.\n",
    "group_names = ['Lost Gen', 'Greatest Gen', 'Silent Gen','Baby Boomers', 'Gen X', 'Milennials', 'Gen Z', 'Gen Alpha']\n",
    "evaluation_bins = [1883, 1900, 1927, 1945, 1964, 1980, 1996, 2010, 2025]\n",
    "df_user['generation'] = pd.cut(x      = df_user['birth_date'].dt.year.convert_dtypes(), \n",
    "                               bins   = evaluation_bins, \n",
    "                               labels = group_names)"
   ]
  },
  {
   "cell_type": "code",
   "execution_count": 11,
   "id": "0f18978f-7c85-4d49-9c4c-6f2a91f8ce78",
   "metadata": {},
   "outputs": [
    {
     "data": {
      "text/html": [
       "<div>\n",
       "<style scoped>\n",
       "    .dataframe tbody tr th:only-of-type {\n",
       "        vertical-align: middle;\n",
       "    }\n",
       "\n",
       "    .dataframe tbody tr th {\n",
       "        vertical-align: top;\n",
       "    }\n",
       "\n",
       "    .dataframe thead th {\n",
       "        text-align: right;\n",
       "    }\n",
       "</style>\n",
       "<table border=\"1\" class=\"dataframe\">\n",
       "  <thead>\n",
       "    <tr style=\"text-align: right;\">\n",
       "      <th></th>\n",
       "      <th>id</th>\n",
       "      <th>state</th>\n",
       "      <th>language</th>\n",
       "      <th>gender</th>\n",
       "      <th>birth_date</th>\n",
       "      <th>created_date</th>\n",
       "      <th>user_age</th>\n",
       "      <th>accnt_age_months</th>\n",
       "      <th>generation</th>\n",
       "    </tr>\n",
       "  </thead>\n",
       "  <tbody>\n",
       "    <tr>\n",
       "      <th>0</th>\n",
       "      <td>5ef3b4f17053ab141787697d</td>\n",
       "      <td>CA</td>\n",
       "      <td>es-419</td>\n",
       "      <td>female</td>\n",
       "      <td>2000-08-11</td>\n",
       "      <td>2020-06-24</td>\n",
       "      <td>24.0</td>\n",
       "      <td>56</td>\n",
       "      <td>Gen Z</td>\n",
       "    </tr>\n",
       "    <tr>\n",
       "      <th>1</th>\n",
       "      <td>5ff220d383fcfc12622b96bc</td>\n",
       "      <td>PA</td>\n",
       "      <td>en</td>\n",
       "      <td>female</td>\n",
       "      <td>2001-09-24</td>\n",
       "      <td>2021-01-03</td>\n",
       "      <td>23.0</td>\n",
       "      <td>49</td>\n",
       "      <td>Gen Z</td>\n",
       "    </tr>\n",
       "    <tr>\n",
       "      <th>2</th>\n",
       "      <td>6477950aa55bb77a0e27ee10</td>\n",
       "      <td>FL</td>\n",
       "      <td>es-419</td>\n",
       "      <td>female</td>\n",
       "      <td>1994-10-28</td>\n",
       "      <td>2023-05-31</td>\n",
       "      <td>30.0</td>\n",
       "      <td>21</td>\n",
       "      <td>Milennials</td>\n",
       "    </tr>\n",
       "  </tbody>\n",
       "</table>\n",
       "</div>"
      ],
      "text/plain": [
       "                         id state language  gender birth_date created_date  \\\n",
       "0  5ef3b4f17053ab141787697d    CA   es-419  female 2000-08-11   2020-06-24   \n",
       "1  5ff220d383fcfc12622b96bc    PA       en  female 2001-09-24   2021-01-03   \n",
       "2  6477950aa55bb77a0e27ee10    FL   es-419  female 1994-10-28   2023-05-31   \n",
       "\n",
       "   user_age  accnt_age_months  generation  \n",
       "0      24.0                56       Gen Z  \n",
       "1      23.0                49       Gen Z  \n",
       "2      30.0                21  Milennials  "
      ]
     },
     "execution_count": 11,
     "metadata": {},
     "output_type": "execute_result"
    }
   ],
   "source": [
    "# save the clean data into a csv file.\n",
    "df_user.to_csv('user_sql.csv')\n",
    "df_user.head(3)"
   ]
  },
  {
   "cell_type": "markdown",
   "id": "0f82836f-6eb1-4d5c-9132-3b272134d127",
   "metadata": {},
   "source": [
    "### Section 1.3: Cleaning the PRODUCTS_TAKEHOME dataset"
   ]
  },
  {
   "cell_type": "code",
   "execution_count": 12,
   "id": "c582f58f-a5f2-4e7d-982d-4ed4fc7099c3",
   "metadata": {},
   "outputs": [
    {
     "data": {
      "text/html": [
       "<div>\n",
       "<style scoped>\n",
       "    .dataframe tbody tr th:only-of-type {\n",
       "        vertical-align: middle;\n",
       "    }\n",
       "\n",
       "    .dataframe tbody tr th {\n",
       "        vertical-align: top;\n",
       "    }\n",
       "\n",
       "    .dataframe thead th {\n",
       "        text-align: right;\n",
       "    }\n",
       "</style>\n",
       "<table border=\"1\" class=\"dataframe\">\n",
       "  <thead>\n",
       "    <tr style=\"text-align: right;\">\n",
       "      <th></th>\n",
       "      <th>CATEGORY_1</th>\n",
       "      <th>CATEGORY_2</th>\n",
       "      <th>CATEGORY_3</th>\n",
       "      <th>CATEGORY_4</th>\n",
       "      <th>MANUFACTURER</th>\n",
       "      <th>BRAND</th>\n",
       "      <th>BARCODE</th>\n",
       "    </tr>\n",
       "  </thead>\n",
       "  <tbody>\n",
       "    <tr>\n",
       "      <th>0</th>\n",
       "      <td>Health &amp; Wellness</td>\n",
       "      <td>Sexual Health</td>\n",
       "      <td>Conductivity Gels &amp; Lotions</td>\n",
       "      <td>NaN</td>\n",
       "      <td>NaN</td>\n",
       "      <td>NaN</td>\n",
       "      <td>796494407820</td>\n",
       "    </tr>\n",
       "    <tr>\n",
       "      <th>1</th>\n",
       "      <td>Snacks</td>\n",
       "      <td>Puffed Snacks</td>\n",
       "      <td>Cheese Curls &amp; Puffs</td>\n",
       "      <td>NaN</td>\n",
       "      <td>NaN</td>\n",
       "      <td>NaN</td>\n",
       "      <td>023278011028</td>\n",
       "    </tr>\n",
       "    <tr>\n",
       "      <th>2</th>\n",
       "      <td>Health &amp; Wellness</td>\n",
       "      <td>Hair Care</td>\n",
       "      <td>Hair Care Accessories</td>\n",
       "      <td>NaN</td>\n",
       "      <td>PLACEHOLDER MANUFACTURER</td>\n",
       "      <td>ELECSOP</td>\n",
       "      <td>461817824225</td>\n",
       "    </tr>\n",
       "  </tbody>\n",
       "</table>\n",
       "</div>"
      ],
      "text/plain": [
       "          CATEGORY_1     CATEGORY_2                   CATEGORY_3 CATEGORY_4  \\\n",
       "0  Health & Wellness  Sexual Health  Conductivity Gels & Lotions        NaN   \n",
       "1             Snacks  Puffed Snacks         Cheese Curls & Puffs        NaN   \n",
       "2  Health & Wellness      Hair Care        Hair Care Accessories        NaN   \n",
       "\n",
       "               MANUFACTURER    BRAND       BARCODE  \n",
       "0                       NaN      NaN  796494407820  \n",
       "1                       NaN      NaN  023278011028  \n",
       "2  PLACEHOLDER MANUFACTURER  ELECSOP  461817824225  "
      ]
     },
     "execution_count": 12,
     "metadata": {},
     "output_type": "execute_result"
    }
   ],
   "source": [
    "df_products = pd.read_csv('PRODUCTS_TAKEHOME.csv', dtype={'BARCODE':np.object_}) # ensure that barcode is not read in scientific notation.\n",
    "df_products.head(3)"
   ]
  },
  {
   "cell_type": "markdown",
   "id": "9dfc454a-d78c-4fa0-b736-a81b38356b7b",
   "metadata": {},
   "source": [
    "Unlike the <span style='color:green'>USER</span> dataset, no consistency corrections seem to be necessary. However, it is worth noting that a SpellChecker revealed a few mispelled words. Further analysis will be needed to determine if these mispelling will cause any issues down the line; however, we assume that the impact is minimal or none due to its very low count and our target questions. Finally, this table contains duplicate rows."
   ]
  },
  {
   "cell_type": "code",
   "execution_count": 13,
   "id": "b9ff1bc7-d1d8-4a7e-bed4-f77181279c92",
   "metadata": {},
   "outputs": [
    {
     "name": "stdout",
     "output_type": "stream",
     "text": [
      "A total of 57 duplicate rows have been dropped.\n"
     ]
    }
   ],
   "source": [
    "df_products = check_for_duplicates(df_products) # check for duplicate rows and deduplicate if necessary"
   ]
  },
  {
   "cell_type": "code",
   "execution_count": 14,
   "id": "310aae8f-a5e8-4b62-b362-aeed5bf89ca6",
   "metadata": {},
   "outputs": [
    {
     "data": {
      "text/html": [
       "<div>\n",
       "<style scoped>\n",
       "    .dataframe tbody tr th:only-of-type {\n",
       "        vertical-align: middle;\n",
       "    }\n",
       "\n",
       "    .dataframe tbody tr th {\n",
       "        vertical-align: top;\n",
       "    }\n",
       "\n",
       "    .dataframe thead th {\n",
       "        text-align: right;\n",
       "    }\n",
       "</style>\n",
       "<table border=\"1\" class=\"dataframe\">\n",
       "  <thead>\n",
       "    <tr style=\"text-align: right;\">\n",
       "      <th></th>\n",
       "      <th>category_1</th>\n",
       "      <th>category_2</th>\n",
       "      <th>category_3</th>\n",
       "      <th>category_4</th>\n",
       "      <th>manufacturer</th>\n",
       "      <th>brand</th>\n",
       "      <th>barcode</th>\n",
       "    </tr>\n",
       "  </thead>\n",
       "  <tbody>\n",
       "    <tr>\n",
       "      <th>0</th>\n",
       "      <td>Health &amp; Wellness</td>\n",
       "      <td>Sexual Health</td>\n",
       "      <td>Conductivity Gels &amp; Lotions</td>\n",
       "      <td>NaN</td>\n",
       "      <td>NaN</td>\n",
       "      <td>NaN</td>\n",
       "      <td>796494407820</td>\n",
       "    </tr>\n",
       "    <tr>\n",
       "      <th>1</th>\n",
       "      <td>Snacks</td>\n",
       "      <td>Puffed Snacks</td>\n",
       "      <td>Cheese Curls &amp; Puffs</td>\n",
       "      <td>NaN</td>\n",
       "      <td>NaN</td>\n",
       "      <td>NaN</td>\n",
       "      <td>023278011028</td>\n",
       "    </tr>\n",
       "    <tr>\n",
       "      <th>2</th>\n",
       "      <td>Health &amp; Wellness</td>\n",
       "      <td>Hair Care</td>\n",
       "      <td>Hair Care Accessories</td>\n",
       "      <td>NaN</td>\n",
       "      <td>PLACEHOLDER MANUFACTURER</td>\n",
       "      <td>ELECSOP</td>\n",
       "      <td>461817824225</td>\n",
       "    </tr>\n",
       "  </tbody>\n",
       "</table>\n",
       "</div>"
      ],
      "text/plain": [
       "          category_1     category_2                   category_3 category_4  \\\n",
       "0  Health & Wellness  Sexual Health  Conductivity Gels & Lotions        NaN   \n",
       "1             Snacks  Puffed Snacks         Cheese Curls & Puffs        NaN   \n",
       "2  Health & Wellness      Hair Care        Hair Care Accessories        NaN   \n",
       "\n",
       "               manufacturer    brand       barcode  \n",
       "0                       NaN      NaN  796494407820  \n",
       "1                       NaN      NaN  023278011028  \n",
       "2  PLACEHOLDER MANUFACTURER  ELECSOP  461817824225  "
      ]
     },
     "execution_count": 14,
     "metadata": {},
     "output_type": "execute_result"
    }
   ],
   "source": [
    "# change all column names to lower case.\n",
    "df_products.rename(columns = col_names_to_lower(df_products), inplace = True)\n",
    "\n",
    "# save file to process in SQL.\n",
    "df_products.to_csv('products_sql.csv')\n",
    "df_products.head(3)"
   ]
  },
  {
   "cell_type": "markdown",
   "id": "a606eb53-b43c-4039-b0b9-e7052f741381",
   "metadata": {},
   "source": [
    "### Section 1.4: Cleaning the TRANSACTION_TAKEHOME dataset"
   ]
  },
  {
   "cell_type": "code",
   "execution_count": 15,
   "id": "852c732d-8607-4052-b5ae-213a8d0c3229",
   "metadata": {},
   "outputs": [
    {
     "data": {
      "text/html": [
       "<div>\n",
       "<style scoped>\n",
       "    .dataframe tbody tr th:only-of-type {\n",
       "        vertical-align: middle;\n",
       "    }\n",
       "\n",
       "    .dataframe tbody tr th {\n",
       "        vertical-align: top;\n",
       "    }\n",
       "\n",
       "    .dataframe thead th {\n",
       "        text-align: right;\n",
       "    }\n",
       "</style>\n",
       "<table border=\"1\" class=\"dataframe\">\n",
       "  <thead>\n",
       "    <tr style=\"text-align: right;\">\n",
       "      <th></th>\n",
       "      <th>RECEIPT_ID</th>\n",
       "      <th>PURCHASE_DATE</th>\n",
       "      <th>SCAN_DATE</th>\n",
       "      <th>STORE_NAME</th>\n",
       "      <th>USER_ID</th>\n",
       "      <th>BARCODE</th>\n",
       "      <th>FINAL_QUANTITY</th>\n",
       "      <th>FINAL_SALE</th>\n",
       "    </tr>\n",
       "  </thead>\n",
       "  <tbody>\n",
       "    <tr>\n",
       "      <th>0</th>\n",
       "      <td>0000d256-4041-4a3e-adc4-5623fb6e0c99</td>\n",
       "      <td>2024-08-21</td>\n",
       "      <td>2024-08-21 14:19:06.539 Z</td>\n",
       "      <td>WALMART</td>\n",
       "      <td>63b73a7f3d310dceeabd4758</td>\n",
       "      <td>015300014978</td>\n",
       "      <td>1.00</td>\n",
       "      <td></td>\n",
       "    </tr>\n",
       "    <tr>\n",
       "      <th>1</th>\n",
       "      <td>0001455d-7a92-4a7b-a1d2-c747af1c8fd3</td>\n",
       "      <td>2024-07-20</td>\n",
       "      <td>2024-07-20 09:50:24.206 Z</td>\n",
       "      <td>ALDI</td>\n",
       "      <td>62c08877baa38d1a1f6c211a</td>\n",
       "      <td>NaN</td>\n",
       "      <td>zero</td>\n",
       "      <td>1.49</td>\n",
       "    </tr>\n",
       "    <tr>\n",
       "      <th>2</th>\n",
       "      <td>00017e0a-7851-42fb-bfab-0baa96e23586</td>\n",
       "      <td>2024-08-18</td>\n",
       "      <td>2024-08-19 15:38:56.813 Z</td>\n",
       "      <td>WALMART</td>\n",
       "      <td>60842f207ac8b7729e472020</td>\n",
       "      <td>078742229751</td>\n",
       "      <td>1.00</td>\n",
       "      <td></td>\n",
       "    </tr>\n",
       "  </tbody>\n",
       "</table>\n",
       "</div>"
      ],
      "text/plain": [
       "                             RECEIPT_ID PURCHASE_DATE  \\\n",
       "0  0000d256-4041-4a3e-adc4-5623fb6e0c99    2024-08-21   \n",
       "1  0001455d-7a92-4a7b-a1d2-c747af1c8fd3    2024-07-20   \n",
       "2  00017e0a-7851-42fb-bfab-0baa96e23586    2024-08-18   \n",
       "\n",
       "                   SCAN_DATE STORE_NAME                   USER_ID  \\\n",
       "0  2024-08-21 14:19:06.539 Z    WALMART  63b73a7f3d310dceeabd4758   \n",
       "1  2024-07-20 09:50:24.206 Z       ALDI  62c08877baa38d1a1f6c211a   \n",
       "2  2024-08-19 15:38:56.813 Z    WALMART  60842f207ac8b7729e472020   \n",
       "\n",
       "        BARCODE FINAL_QUANTITY FINAL_SALE  \n",
       "0  015300014978           1.00             \n",
       "1           NaN           zero       1.49  \n",
       "2  078742229751           1.00             "
      ]
     },
     "execution_count": 15,
     "metadata": {},
     "output_type": "execute_result"
    }
   ],
   "source": [
    "df_transaction = pd.read_csv('TRANSACTION_TAKEHOME.csv', dtype={'BARCODE':np.object_}) # ensure that barcode is not read in scientific notation.\n",
    "df_transaction.head(3)"
   ]
  },
  {
   "cell_type": "markdown",
   "id": "22331476-2b92-4173-9c6d-126d3befd16d",
   "metadata": {},
   "source": [
    "We immediately notice the the string *zero* is in the ``FINAL_QUANTITY`` column and fix it. Afterwards, we re-format the ``SCAN_DATE`` variable."
   ]
  },
  {
   "cell_type": "code",
   "execution_count": 16,
   "id": "0e65b75e-80fa-4bdd-a4dd-116b6e78eca0",
   "metadata": {},
   "outputs": [],
   "source": [
    "df_transaction['FINAL_QUANTITY'] = df_transaction['FINAL_QUANTITY'].replace('zero', 0.00)\n",
    "\n",
    "df_transaction['Scan_Date']  = pd.to_datetime(df_transaction['SCAN_DATE']).dt.strftime('%Y-%m-%d')\n",
    "df_transaction.drop(['SCAN_DATE'], axis = 1, inplace=True) # drop columns from the dataframe"
   ]
  },
  {
   "cell_type": "markdown",
   "id": "f631443a-2235-4c52-93c3-840a550a2e9d",
   "metadata": {},
   "source": [
    "Next, we find a total of 171 duplicate rows."
   ]
  },
  {
   "cell_type": "code",
   "execution_count": 17,
   "id": "cc7b7a4e-e174-4745-886a-1d742e16d49b",
   "metadata": {},
   "outputs": [
    {
     "name": "stdout",
     "output_type": "stream",
     "text": [
      "A total of 171 duplicate rows have been dropped.\n"
     ]
    }
   ],
   "source": [
    "df_transaction = check_for_duplicates(df_transaction) # check for duplicate rows and deduplicate if necessary"
   ]
  },
  {
   "cell_type": "markdown",
   "id": "5163aa1a-e740-4378-850d-0554388c107a",
   "metadata": {},
   "source": [
    "Further analysis reveals that the ``FINAL_SALE`` variable contains empty strings. We fix this and make other datatype corrections."
   ]
  },
  {
   "cell_type": "code",
   "execution_count": 18,
   "id": "7bfebbd6-06f4-44ba-9a0e-15423e73d76f",
   "metadata": {},
   "outputs": [],
   "source": [
    "df_transaction.rename(columns = col_names_to_lower(df_transaction), inplace = True) #make column names lowercase.\n",
    "\n",
    "df_transaction['purchase_date']  = pd.to_datetime(df_transaction['purchase_date'])\n",
    "df_transaction['scan_date']      = pd.to_datetime(df_transaction['scan_date'])\n",
    "\n",
    "df_transaction['final_quantity'] = df_transaction['final_quantity'].astype('float') # this variable was imported as a string.\n",
    "\n",
    "df_transaction['final_sale']     = df_transaction['final_sale'].replace(' ', np.NaN).astype('float') # remove empty strings, and make a number."
   ]
  },
  {
   "cell_type": "markdown",
   "id": "6bb6582c-e013-4e26-9f4a-aefe0bdd7dcb",
   "metadata": {},
   "source": [
    "The <span style='color:green'>TRANSACTION</span> table has some confusing information in recards to the ``final_quantity`` and ``final_sale`` variable that will be investigated further when we move to SQL, which invovles 0's and NaNs."
   ]
  },
  {
   "cell_type": "code",
   "execution_count": 19,
   "id": "3555960a-ecb7-41ca-a7f4-fcf90f4d5342",
   "metadata": {},
   "outputs": [
    {
     "data": {
      "text/html": [
       "<div>\n",
       "<style scoped>\n",
       "    .dataframe tbody tr th:only-of-type {\n",
       "        vertical-align: middle;\n",
       "    }\n",
       "\n",
       "    .dataframe tbody tr th {\n",
       "        vertical-align: top;\n",
       "    }\n",
       "\n",
       "    .dataframe thead th {\n",
       "        text-align: right;\n",
       "    }\n",
       "</style>\n",
       "<table border=\"1\" class=\"dataframe\">\n",
       "  <thead>\n",
       "    <tr style=\"text-align: right;\">\n",
       "      <th></th>\n",
       "      <th>receipt_id</th>\n",
       "      <th>purchase_date</th>\n",
       "      <th>store_name</th>\n",
       "      <th>user_id</th>\n",
       "      <th>barcode</th>\n",
       "      <th>final_quantity</th>\n",
       "      <th>final_sale</th>\n",
       "      <th>scan_date</th>\n",
       "    </tr>\n",
       "  </thead>\n",
       "  <tbody>\n",
       "    <tr>\n",
       "      <th>0</th>\n",
       "      <td>0000d256-4041-4a3e-adc4-5623fb6e0c99</td>\n",
       "      <td>2024-08-21</td>\n",
       "      <td>WALMART</td>\n",
       "      <td>63b73a7f3d310dceeabd4758</td>\n",
       "      <td>015300014978</td>\n",
       "      <td>1.0</td>\n",
       "      <td>NaN</td>\n",
       "      <td>2024-08-21</td>\n",
       "    </tr>\n",
       "    <tr>\n",
       "      <th>1</th>\n",
       "      <td>0001455d-7a92-4a7b-a1d2-c747af1c8fd3</td>\n",
       "      <td>2024-07-20</td>\n",
       "      <td>ALDI</td>\n",
       "      <td>62c08877baa38d1a1f6c211a</td>\n",
       "      <td>NaN</td>\n",
       "      <td>0.0</td>\n",
       "      <td>1.49</td>\n",
       "      <td>2024-07-20</td>\n",
       "    </tr>\n",
       "    <tr>\n",
       "      <th>2</th>\n",
       "      <td>00017e0a-7851-42fb-bfab-0baa96e23586</td>\n",
       "      <td>2024-08-18</td>\n",
       "      <td>WALMART</td>\n",
       "      <td>60842f207ac8b7729e472020</td>\n",
       "      <td>078742229751</td>\n",
       "      <td>1.0</td>\n",
       "      <td>NaN</td>\n",
       "      <td>2024-08-19</td>\n",
       "    </tr>\n",
       "  </tbody>\n",
       "</table>\n",
       "</div>"
      ],
      "text/plain": [
       "                             receipt_id purchase_date store_name  \\\n",
       "0  0000d256-4041-4a3e-adc4-5623fb6e0c99    2024-08-21    WALMART   \n",
       "1  0001455d-7a92-4a7b-a1d2-c747af1c8fd3    2024-07-20       ALDI   \n",
       "2  00017e0a-7851-42fb-bfab-0baa96e23586    2024-08-18    WALMART   \n",
       "\n",
       "                    user_id       barcode  final_quantity  final_sale  \\\n",
       "0  63b73a7f3d310dceeabd4758  015300014978             1.0         NaN   \n",
       "1  62c08877baa38d1a1f6c211a           NaN             0.0        1.49   \n",
       "2  60842f207ac8b7729e472020  078742229751             1.0         NaN   \n",
       "\n",
       "   scan_date  \n",
       "0 2024-08-21  \n",
       "1 2024-07-20  \n",
       "2 2024-08-19  "
      ]
     },
     "execution_count": 19,
     "metadata": {},
     "output_type": "execute_result"
    }
   ],
   "source": [
    "# save semi-clean file to process in SQL\n",
    "df_transaction.to_csv('transaction_sql.csv')\n",
    "df_transaction.head(3)"
   ]
  },
  {
   "cell_type": "markdown",
   "id": "3c67c3ac-4cc3-463c-82b8-2eb0d55b9508",
   "metadata": {},
   "source": [
    "# Section 2: Data Cleaning Part 2: NaNs, Nulls, and other observations."
   ]
  },
  {
   "cell_type": "code",
   "execution_count": 20,
   "id": "aafdfc9a-9dd5-42a6-965c-2f0ea096b50e",
   "metadata": {},
   "outputs": [],
   "source": [
    "########################################################################################################\n",
    "# This function will output a series containg the number of missing or null values for each column in  \n",
    "# a dataframe. If flag = True, the function will printout counts and percents as text.\n",
    "########################################################################################################\n",
    "def missing_data_counts(dataframe, flag = False):\n",
    "    missing_data = dataframe.isnull()\n",
    "    n = dataframe.shape[0]\n",
    "    percents, names = list(), list()\n",
    "    \n",
    "    for column in missing_data.columns.values.tolist():\n",
    "        x = missing_data[column].value_counts()\n",
    "        y = x.index\n",
    "        count = x[True] if True in y else 0\n",
    "        percents.append(count/n)\n",
    "        names.append(y.name)\n",
    "        \n",
    "        if flag == True:\n",
    "            print(f'The column {y.name.upper()} has {count} missing or null values. This represents {count*100/n:.2f}% of the column data.')\n",
    "    return pd.Series(data = percents, index = names)\n",
    "    "
   ]
  },
  {
   "cell_type": "markdown",
   "id": "28245dea-fb15-4c36-b2e3-12b9967413aa",
   "metadata": {},
   "source": [
    "### Section 2.1: Missing data from the USER, PRODUCTS, and TRANSACTION tables.\n",
    "In this part, we determine the percent distribution of missing values of each of the variables in each table. "
   ]
  },
  {
   "cell_type": "code",
   "execution_count": 21,
   "id": "df88d364-d0ce-47c3-a752-8744bb143792",
   "metadata": {},
   "outputs": [
    {
     "data": {
      "text/plain": [
       "[Text(0.5, 14.722222222222216, 'TRANSACTION table')]"
      ]
     },
     "execution_count": 21,
     "metadata": {},
     "output_type": "execute_result"
    },
    {
     "data": {
      "image/png": "[encoded data removed]",
      "text/plain": [
       "<Figure size 1500x400 with 3 Axes>"
      ]
     },
     "metadata": {},
     "output_type": "display_data"
    }
   ],
   "source": [
    "missing_user_data        = missing_data_counts(df_user)\n",
    "missing_products_data    = missing_data_counts(df_products)\n",
    "missing_transaction_data = missing_data_counts(df_transaction)\n",
    "\n",
    "fig, axs = plt.subplots(ncols = 3, figsize = (15, 4))\n",
    "fig.tight_layout(w_pad = 3.0)\n",
    "sns.barplot(x  = missing_user_data,        \n",
    "            y  = missing_user_data.index.to_list(), \n",
    "            ax = axs[0]).set(xlabel = 'USER table')\n",
    "sns.barplot(x  = missing_products_data,    \n",
    "            y  = missing_products_data.index.to_list(), \n",
    "            ax = axs[1]).set(xlabel = 'PRODUCTS table')\n",
    "sns.barplot(x  = missing_transaction_data, \n",
    "            y  = missing_transaction_data.index.to_list(), \n",
    "            ax = axs[2]).set(xlabel = 'TRANSACTION table')"
   ]
  },
  {
   "cell_type": "markdown",
   "id": "29e393e6-fac7-4c08-864f-0fb6023f38ca",
   "metadata": {},
   "source": [
    "The above plots show that most variables in the <span style='color:green'>USER</span> table (100,000 records) have around 5% of missing data, except for ``language``, which is about 30% (note that ``user_age`` and ``generation`` are based off of ``birth_date``). The ``category_4`` variable in the <span style='color:green'>PRODUCTS</span> table (845,495 records) is missing over 90% of the data, while most other variables are less than 35%. Morevover, a variable that will be needed for our analysis, ``brand``, is missing about 25% of the data. Finally, ``barcode`` and ``final_sale`` are the only variable from the <span style='color:green'>TRANSACTION</span> table (49,829 records) that is missing data, accounting for about 12% and 25%, respectively. However, when we move to SQL we will demonstrate that those 25% from ``final_sale`` are redundant data."
   ]
  },
  {
   "cell_type": "markdown",
   "id": "c46c5040-31b9-4494-9058-905db05a7d05",
   "metadata": {},
   "source": [
    "### Section 2.2: Data Anomalies."
   ]
  },
  {
   "cell_type": "markdown",
   "id": "ed102764-0555-47d1-80ba-18583f996829",
   "metadata": {},
   "source": [
    "In this section we investigate variables in each of the datasets and check for anomalies.\n",
    "\n",
    "**Age**: First, we look over the ``user_age`` variable. Here we see unusual values as low as 2 years of age and as high as 125 years (current world guinness record is 116 years of age). Older ages are possible and likely, but that cannot be said for a user that is 2 years of age. Fortunately, the number of these type of records are insignificant (there are 77 records below age 8 or above age 100) compared to the data size of about 96k records."
   ]
  },
  {
   "cell_type": "code",
   "execution_count": 22,
   "id": "6da3a8c1-d7da-44a9-beed-1d1ac5964d2c",
   "metadata": {},
   "outputs": [
    {
     "name": "stdout",
     "output_type": "stream",
     "text": [
      "count    96325.000000\n",
      "mean        39.996719\n",
      "std         15.171717\n",
      "min          2.000000\n",
      "25%         27.000000\n",
      "50%         39.000000\n",
      "75%         50.000000\n",
      "max        125.000000\n",
      "Name: user_age, dtype: float64\n",
      "\n",
      "A total of 77 records fall below 8 years or above 100 years\n"
     ]
    }
   ],
   "source": [
    "df_age_no_nulls = df_user['user_age'].dropna().astype('int')\n",
    "\n",
    "print(df_age_no_nulls.describe())\n",
    "print(f'\\nA total of {len(df_age_no_nulls[(df_age_no_nulls < 8) | (df_age_no_nulls > 100)])} records fall below 8 years or above 100 years')"
   ]
  },
  {
   "cell_type": "markdown",
   "id": "d86f3d50-8be6-4061-87ed-a849772a2b3e",
   "metadata": {},
   "source": [
    "**scan date**: (see next section).\n",
    "\n",
    "**final_quantity**: This variable has 49,829 values, of which 110 were found to have decimal values. Fortunately, this represents about 0.2% of the data and we suspect we can safely remove them. We will investigate further in SQL."
   ]
  },
  {
   "cell_type": "code",
   "execution_count": 23,
   "id": "53fad1b9-1377-492f-8d99-f0ce36c252e7",
   "metadata": {},
   "outputs": [
    {
     "name": "stdout",
     "output_type": "stream",
     "text": [
      "### There are 110 quantity-values represented as a decimal.\n",
      "### This corresponds to about 0.22% of the column data.\n",
      "\n",
      "###Examples shown below\n"
     ]
    },
    {
     "data": {
      "text/plain": [
       "1372    4.55\n",
       "1420    2.83\n",
       "1978    2.34\n",
       "Name: final_quantity, dtype: float64"
      ]
     },
     "execution_count": 23,
     "metadata": {},
     "output_type": "execute_result"
    }
   ],
   "source": [
    "df_quantity = df_transaction['final_quantity']\n",
    "\n",
    "# identify records with non-zero decimal part. We will use this indentifier later in SQL.\n",
    "df_transaction['decimal_quantity'] = df_quantity - df_quantity.apply(lambda i: int(i)) > 0 \n",
    "\n",
    "quantity_with_decimals = df_quantity[df_transaction['decimal_quantity']]\n",
    "num_quantity_decimals = len(quantity_with_decimals)\n",
    "pcnt_value = num_quantity_decimals*100/df_transaction['final_quantity'].size\n",
    "\n",
    "print(f'### There are {num_quantity_decimals} quantity-values represented as a decimal.')\n",
    "print(f'### This corresponds to about {pcnt_value:.2f}% of the column data.')\n",
    "print('\\n###Examples shown below')\n",
    "quantity_with_decimals.head(3)"
   ]
  },
  {
   "cell_type": "code",
   "execution_count": 24,
   "id": "1c9ec2e6-a45e-45ce-95e9-616d1c343fb4",
   "metadata": {},
   "outputs": [],
   "source": [
    "# save this new information.\n",
    "df_transaction.to_csv('transaction_sql.csv')"
   ]
  },
  {
   "cell_type": "markdown",
   "id": "1defdd91-7c90-41d1-86bb-397c0be30602",
   "metadata": {},
   "source": [
    "### Section 3: Further observations"
   ]
  },
  {
   "cell_type": "code",
   "execution_count": 25,
   "id": "145e0c3a-d0f2-4800-b461-636ffbe0ebb3",
   "metadata": {},
   "outputs": [],
   "source": [
    "##################################################################################\n",
    "# Plots the distribution of a series based on categorical variables.\n",
    "##################################################################################\n",
    "def drop_na_barplot(series_data, color = 'red', head = True, size = 5):\n",
    "    series_no_nulls = series_data.dropna()\n",
    "    df = series_no_nulls.value_counts()\n",
    "    if head == False:\n",
    "        (df/sum(df)).plot(kind = 'bar', color = color, figsize = (4,2))\n",
    "    else:\n",
    "        (df/sum(df)).head(size).plot(kind = 'bar', color = color, figsize = (4,2))\n",
    "    return series_no_nulls"
   ]
  },
  {
   "cell_type": "markdown",
   "id": "2401b72b-9edc-4f70-9a87-758be7de360a",
   "metadata": {},
   "source": [
    "We now look at a few variables in our table and obtain some insights of the data.\n",
    "\n",
    "**Age**: The age distribution shows that a large percent of our users are in their 20s and 40s. The data does not follow a normal distribution, but is large enough to make inferences."
   ]
  },
  {
   "cell_type": "code",
   "execution_count": 26,
   "id": "fb8d41a2-9057-4201-abe7-e1f26c2cca8e",
   "metadata": {},
   "outputs": [
    {
     "data": {
      "image/png": "[encoded data removed]",
      "text/plain": [
       "<Figure size 1000x300 with 2 Axes>"
      ]
     },
     "metadata": {},
     "output_type": "display_data"
    }
   ],
   "source": [
    "fig, axs = plt.subplots(ncols = 2, figsize = (10, 3))\n",
    "fig.tight_layout(w_pad = 3.0)\n",
    "sns.histplot(df_age_no_nulls, kde = True, color = 'green', ax = axs[0]).set(xlabel = 'age')\n",
    "sm.qqplot(df_age_no_nulls, line = 'q', ax = axs[1])\n",
    "plt.grid(True)"
   ]
  },
  {
   "cell_type": "markdown",
   "id": "e55a7811-59db-4b23-b7f2-bdc3f71c0064",
   "metadata": {},
   "source": [
    "**gender**: Our analysis suggests that females account to close to 69% of users, while males are in the 28% range. The rest of the users account for less than 2% each."
   ]
  },
  {
   "cell_type": "code",
   "execution_count": 27,
   "id": "b6559d66-cc31-4a35-9aeb-090f522a0138",
   "metadata": {},
   "outputs": [
    {
     "data": {
      "image/png": "[encoded data removed]",
      "text/plain": [
       "<Figure size 400x200 with 1 Axes>"
      ]
     },
     "metadata": {},
     "output_type": "display_data"
    }
   ],
   "source": [
    "df_gender_no_nulls = drop_na_barplot(df_user['gender'])"
   ]
  },
  {
   "cell_type": "markdown",
   "id": "f8bdc926-03fe-44c2-bb3e-2fa265752aef",
   "metadata": {},
   "source": [
    "if we consider both **age** and **gender**, a large proportion of users are in their 20's and 40's, for all groups."
   ]
  },
  {
   "cell_type": "code",
   "execution_count": 28,
   "id": "0b08cb9c-2f75-4c00-9c42-4e07bc91fe67",
   "metadata": {},
   "outputs": [
    {
     "data": {
      "text/plain": [
       "<seaborn.axisgrid.FacetGrid at 0x1f8056feda0>"
      ]
     },
     "execution_count": 28,
     "metadata": {},
     "output_type": "execute_result"
    },
    {
     "data": {
      "text/plain": [
       "<Figure size 200x100 with 0 Axes>"
      ]
     },
     "metadata": {},
     "output_type": "display_data"
    },
    {
     "data": {
      "image/png": "[encoded data removed]",
      "text/plain": [
       "<Figure size 800x400 with 2 Axes>"
      ]
     },
     "metadata": {},
     "output_type": "display_data"
    },
    {
     "data": {
      "image/png": "[encoded data removed]",
      "text/plain": [
       "<Figure size 800x400 with 2 Axes>"
      ]
     },
     "metadata": {},
     "output_type": "display_data"
    },
    {
     "data": {
      "image/png": "[encoded data removed]",
      "text/plain": [
       "<Figure size 800x400 with 2 Axes>"
      ]
     },
     "metadata": {},
     "output_type": "display_data"
    }
   ],
   "source": [
    "df_gender_age = df_user[['gender','user_age']].dropna()\n",
    "\n",
    "sns.set_theme(style=\"darkgrid\")\n",
    "plt.figure(figsize=(2, 1))\n",
    "\n",
    "sns.displot(data = df_gender_age.query(\"gender == 'female' | gender == 'male'\"), \n",
    "            x='user_age', col='gender', \n",
    "            binwidth=3, height = 4, facet_kws=dict(margin_titles = True), stat = 'percent', kde = True)\n",
    "sns.displot(data = df_gender_age.query(\"gender == 'transgender' | gender == 'non_binary'\"), \n",
    "            x='user_age', col='gender', \n",
    "            binwidth=3, height = 4, facet_kws=dict(margin_titles = True), stat = 'percent', kde = True)\n",
    "sns.displot(data = df_gender_age.query(\"gender == 'prefer_not_to_say' | gender == 'not_listed'\"), \n",
    "            x='user_age', col='gender', \n",
    "            binwidth=3, height = 4, facet_kws=dict(margin_titles = True), stat = 'percent', kde = True)"
   ]
  },
  {
   "cell_type": "markdown",
   "id": "84b49a64-ec4b-4ebc-a4b8-775fb4752204",
   "metadata": {},
   "source": [
    "**state**: Four states take over 30% of our users, and over half of our users come from 9 out of the 50 states."
   ]
  },
  {
   "cell_type": "code",
   "execution_count": 29,
   "id": "ae310965-5df8-4626-b151-13cc98a200ee",
   "metadata": {},
   "outputs": [
    {
     "data": {
      "text/html": [
       "<div>\n",
       "<style scoped>\n",
       "    .dataframe tbody tr th:only-of-type {\n",
       "        vertical-align: middle;\n",
       "    }\n",
       "\n",
       "    .dataframe tbody tr th {\n",
       "        vertical-align: top;\n",
       "    }\n",
       "\n",
       "    .dataframe thead th {\n",
       "        text-align: right;\n",
       "    }\n",
       "</style>\n",
       "<table border=\"1\" class=\"dataframe\">\n",
       "  <thead>\n",
       "    <tr style=\"text-align: right;\">\n",
       "      <th></th>\n",
       "      <th>percent</th>\n",
       "      <th>cumm_sum</th>\n",
       "    </tr>\n",
       "    <tr>\n",
       "      <th>state</th>\n",
       "      <th></th>\n",
       "      <th></th>\n",
       "    </tr>\n",
       "  </thead>\n",
       "  <tbody>\n",
       "    <tr>\n",
       "      <th>TX</th>\n",
       "      <td>9.48</td>\n",
       "      <td>9.48</td>\n",
       "    </tr>\n",
       "    <tr>\n",
       "      <th>FL</th>\n",
       "      <td>9.37</td>\n",
       "      <td>18.85</td>\n",
       "    </tr>\n",
       "    <tr>\n",
       "      <th>CA</th>\n",
       "      <td>9.02</td>\n",
       "      <td>27.87</td>\n",
       "    </tr>\n",
       "    <tr>\n",
       "      <th>NY</th>\n",
       "      <td>5.99</td>\n",
       "      <td>33.86</td>\n",
       "    </tr>\n",
       "    <tr>\n",
       "      <th>IL</th>\n",
       "      <td>3.99</td>\n",
       "      <td>37.85</td>\n",
       "    </tr>\n",
       "  </tbody>\n",
       "</table>\n",
       "</div>"
      ],
      "text/plain": [
       "       percent  cumm_sum\n",
       "state                   \n",
       "TX        9.48      9.48\n",
       "FL        9.37     18.85\n",
       "CA        9.02     27.87\n",
       "NY        5.99     33.86\n",
       "IL        3.99     37.85"
      ]
     },
     "execution_count": 29,
     "metadata": {},
     "output_type": "execute_result"
    }
   ],
   "source": [
    "user_state = df_user['state'].dropna().value_counts()\n",
    "\n",
    "# create a table showing the cummulative sum of users per state.\n",
    "y = np.round(user_state*100/user_state.sum(),2)\n",
    "y.name = 'percent'\n",
    "y_sum = y.cumsum()\n",
    "y_sum.name = 'cumm_sum'\n",
    "user_demographics = pd.concat([y,y_sum], axis = 1)\n",
    "user_demographics.head(5)"
   ]
  },
  {
   "cell_type": "markdown",
   "id": "3e6c8038-e27e-4bd9-b342-fd002bde7b50",
   "metadata": {},
   "source": [
    " **brands:** In terms of brands found in our dataset close to 3.4% correspond to REM BRAND, 2.7% to BRAND UNKWN, 2.1% to PRIVATE LABEL while all others are less than 1%. It's worth mentioning that we have a high number of missing data in this variable."
   ]
  },
  {
   "cell_type": "code",
   "execution_count": 30,
   "id": "a6c8c2a8-a0e2-453c-9c2a-7618ba891bf2",
   "metadata": {},
   "outputs": [
    {
     "data": {
      "image/png": "[encoded data removed]",
      "text/plain": [
       "<Figure size 400x200 with 1 Axes>"
      ]
     },
     "metadata": {},
     "output_type": "display_data"
    }
   ],
   "source": [
    "df_products_no_nulls = drop_na_barplot(df_products['brand'], color = 'green')"
   ]
  },
  {
   "cell_type": "markdown",
   "id": "ca66ab63-8abb-44f4-b376-12e311745be9",
   "metadata": {},
   "source": [
    "**purchase_date**: For the given time interval, purchases peaked in July (37% of sales) and declined all the way to September, the latter being the lowest of the four months, with only about 6% of the sales."
   ]
  },
  {
   "cell_type": "code",
   "execution_count": 31,
   "id": "d93481e1-44ce-4c93-94d7-d7e52d84fbc9",
   "metadata": {},
   "outputs": [
    {
     "data": {
      "text/plain": [
       "<Axes: xlabel='purchase_year_month'>"
      ]
     },
     "execution_count": 31,
     "metadata": {},
     "output_type": "execute_result"
    },
    {
     "data": {
      "image/png": "[encoded data removed]",
      "text/plain": [
       "<Figure size 400x200 with 1 Axes>"
      ]
     },
     "metadata": {},
     "output_type": "display_data"
    }
   ],
   "source": [
    "z = pd.to_datetime(df_transaction['purchase_date'].dropna())\n",
    "df_pdate = pd.DataFrame(zip(z, z.dt.to_period('M')), columns = ['purchase_date', 'purchase_year_month'])\n",
    "df_pdate['purchase_year_month'].value_counts().sort_index().plot(kind = 'bar', color = 'magenta', figsize = (4,2))"
   ]
  },
  {
   "cell_type": "markdown",
   "id": "48f43315-72cd-4474-be54-d7f024698c82",
   "metadata": {},
   "source": [
    "**scan date**: One observation of interested is the number of days from the time of purchase to the time a product is scanned. Summary statistics reveals that over 60% of products are scanned within 2 days of the purchased date. We did find an anomaly of scanned products before being purchased, which we should analyze further. Fortunately, these counts are very small."
   ]
  },
  {
   "cell_type": "code",
   "execution_count": 32,
   "id": "453e16d6-98c2-4540-acaf-2f62a7df31c3",
   "metadata": {},
   "outputs": [
    {
     "name": "stdout",
     "output_type": "stream",
     "text": [
      "### snippet of distribution of the number of days it takes from date of purchase to date of scan.\n",
      "0 days    0.48\n",
      "1 days    0.18\n",
      "2 days    0.09\n",
      "3 days    0.06\n",
      "Name: count, dtype: float64\n",
      "\n",
      "------------------------------------------------------------------------\n",
      "### Looking at a data summary, reveals a data anomaly: negative days.\n",
      "count                        49829\n",
      "mean     2 days 00:26:42.151357643\n",
      "std      3 days 09:12:44.717011575\n",
      "min              -1 days +00:00:00\n",
      "25%                0 days 00:00:00\n",
      "50%                1 days 00:00:00\n",
      "75%                3 days 00:00:00\n",
      "max               32 days 00:00:00\n",
      "dtype: object\n",
      "\n",
      "------------------------------------------------------------------------\n",
      "### There seems to be 94 values, in which the product was scanned before it was purchased.\n",
      "-1 days       94\n",
      "0 days     23714\n",
      "1 days      8883\n",
      "Name: count, dtype: int64\n"
     ]
    }
   ],
   "source": [
    "# extract the number of days from time of purchase to time of scan.\n",
    "df_scan_days = df_transaction.loc[:,['purchase_date','scan_date']].dropna()\n",
    "df_scan_days['purchase_date'] = pd.to_datetime(df_scan_days['purchase_date'])\n",
    "df_scan_days['scan_date']     = pd.to_datetime(df_scan_days['scan_date'])\n",
    "day_difference = df_scan_days['scan_date'] - df_scan_days['purchase_date']\n",
    "day_counts = day_difference.value_counts()\n",
    "\n",
    "print('### snippet of distribution of the number of days it takes from date of purchase to date of scan.')\n",
    "print(np.round((day_counts/sum(day_counts)), 2).head(4))\n",
    "\n",
    "print('\\n------------------------------------------------------------------------')\n",
    "print('### Looking at a data summary, reveals a data anomaly: negative days.')\n",
    "print(day_difference.describe())\n",
    "\n",
    "print('\\n------------------------------------------------------------------------')\n",
    "print('### There seems to be 94 values, in which the product was scanned before it was purchased.')\n",
    "print(day_counts.sort_index().head(3))"
   ]
  },
  {
   "cell_type": "markdown",
   "id": "5d2c6c25-259a-4082-a7ac-e49bca4cb750",
   "metadata": {},
   "source": [
    "**gender** and **account_age**: The average account age is about 37 months, with half of the users below 35 months. We can also see this distribution by gender."
   ]
  },
  {
   "cell_type": "code",
   "execution_count": 33,
   "id": "8c2b8468-61e5-45fa-8d52-9ebd11a862da",
   "metadata": {},
   "outputs": [
    {
     "data": {
      "text/html": [
       "<div>\n",
       "<style scoped>\n",
       "    .dataframe tbody tr th:only-of-type {\n",
       "        vertical-align: middle;\n",
       "    }\n",
       "\n",
       "    .dataframe tbody tr th {\n",
       "        vertical-align: top;\n",
       "    }\n",
       "\n",
       "    .dataframe thead th {\n",
       "        text-align: right;\n",
       "    }\n",
       "</style>\n",
       "<table border=\"1\" class=\"dataframe\">\n",
       "  <thead>\n",
       "    <tr style=\"text-align: right;\">\n",
       "      <th></th>\n",
       "      <th>gender</th>\n",
       "      <th>avg_accnt_age_months</th>\n",
       "    </tr>\n",
       "  </thead>\n",
       "  <tbody>\n",
       "    <tr>\n",
       "      <th>6</th>\n",
       "      <td>transgender</td>\n",
       "      <td>50.04</td>\n",
       "    </tr>\n",
       "    <tr>\n",
       "      <th>4</th>\n",
       "      <td>not_specified</td>\n",
       "      <td>49.61</td>\n",
       "    </tr>\n",
       "    <tr>\n",
       "      <th>7</th>\n",
       "      <td>unknown</td>\n",
       "      <td>45.58</td>\n",
       "    </tr>\n",
       "    <tr>\n",
       "      <th>0</th>\n",
       "      <td>female</td>\n",
       "      <td>38.30</td>\n",
       "    </tr>\n",
       "    <tr>\n",
       "      <th>1</th>\n",
       "      <td>male</td>\n",
       "      <td>36.35</td>\n",
       "    </tr>\n",
       "    <tr>\n",
       "      <th>3</th>\n",
       "      <td>not_listed</td>\n",
       "      <td>27.46</td>\n",
       "    </tr>\n",
       "    <tr>\n",
       "      <th>5</th>\n",
       "      <td>prefer_not_to_say</td>\n",
       "      <td>27.20</td>\n",
       "    </tr>\n",
       "    <tr>\n",
       "      <th>2</th>\n",
       "      <td>non_binary</td>\n",
       "      <td>26.58</td>\n",
       "    </tr>\n",
       "  </tbody>\n",
       "</table>\n",
       "</div>"
      ],
      "text/plain": [
       "              gender  avg_accnt_age_months\n",
       "6        transgender                 50.04\n",
       "4      not_specified                 49.61\n",
       "7            unknown                 45.58\n",
       "0             female                 38.30\n",
       "1               male                 36.35\n",
       "3         not_listed                 27.46\n",
       "5  prefer_not_to_say                 27.20\n",
       "2         non_binary                 26.58"
      ]
     },
     "execution_count": 33,
     "metadata": {},
     "output_type": "execute_result"
    }
   ],
   "source": [
    "df2 = df_user[['gender', 'accnt_age_months']].dropna()\n",
    "df_grp = df2.groupby(['gender'], as_index = False).mean().round(decimals=2)\n",
    "df_grp.rename(columns = {'accnt_age_months':'avg_accnt_age_months'}, inplace = True)\n",
    "df_grp.sort_values(by = 'avg_accnt_age_months', ascending = False)"
   ]
  },
  {
   "cell_type": "code",
   "execution_count": 34,
   "id": "e121a962-65b7-4377-83ad-fa6d4e02c065",
   "metadata": {},
   "outputs": [
    {
     "data": {
      "text/plain": [
       "count    100000.000000\n",
       "mean         37.271420\n",
       "std          18.567309\n",
       "min           5.000000\n",
       "25%          25.000000\n",
       "50%          35.000000\n",
       "75%          50.000000\n",
       "max         130.000000\n",
       "Name: accnt_age_months, dtype: float64"
      ]
     },
     "execution_count": 34,
     "metadata": {},
     "output_type": "execute_result"
    }
   ],
   "source": [
    "df_user['accnt_age_months'].dropna().describe()"
   ]
  }
 ],
 "metadata": {
  "kernelspec": {
   "display_name": "Python 3 (ipykernel)",
   "language": "python",
   "name": "python3"
  },
  "language_info": {
   "codemirror_mode": {
    "name": "ipython",
    "version": 3
   },
   "file_extension": ".py",
   "mimetype": "text/x-python",
   "name": "python",
   "nbconvert_exporter": "python",
   "pygments_lexer": "ipython3",
   "version": "3.10.0"
  }
 },
 "nbformat": 4,
 "nbformat_minor": 5
}
